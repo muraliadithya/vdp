{
 "cells": [
  {
   "cell_type": "code",
   "execution_count": 2,
   "metadata": {},
   "outputs": [
    {
     "name": "stdout",
     "output_type": "stream",
     "text": [
      "/home/ubuntu/vdp\n"
     ]
    }
   ],
   "source": [
    "%cd \"/home/ubuntu/vdp\"\n",
    "\n",
    "import os, re, json, pickle, subprocess, shlex, sys, shutil\n",
    "from glob import glob\n",
    "from copy import deepcopy\n",
    "import numpy as np\n",
    "import matplotlib.pyplot as plt\n",
    "import json, os\n",
    "from glob import glob\n",
    "import numpy as np\n",
    "import shutil\n",
    "import re\n",
    "\n",
    "# puzzles = json.load(open(\"static/gqa_website.json\"))"
   ]
  },
  {
   "cell_type": "code",
   "execution_count": 5,
   "metadata": {},
   "outputs": [
    {
     "data": {
      "text/plain": [
       "'vdp_website/static/natscene-data'"
      ]
     },
     "execution_count": 5,
     "metadata": {},
     "output_type": "execute_result"
    }
   ],
   "source": [
    "# copy clevr-cleaned-puzzles, clevr-cleaned-variants, natscene_data /static\n",
    "shutil.rmtree(\"vdp_website/static/clevr-puzzles\")\n",
    "shutil.rmtree(\"vdp_website/static/clevr-variants\")\n",
    "shutil.rmtree(\"vdp_website/static/natscene-data\")\n",
    "shutil.copytree(\"data/clevr-cleaned-puzzles\", \"vdp_website/static/clevr-puzzles\")\n",
    "shutil.copytree(\"data/clevr-cleaned-variants\", \"vdp_website/static/clevr-variants\")\n",
    "shutil.copytree(\"data/natscene_data\", \"vdp_website/static/natscene-data\")\n",
    "# shutil.copytree(\"data/natscene_data\", \"vdp_website/static/natscene-data\")\n",
    "\n",
    "\n"
   ]
  },
  {
   "cell_type": "code",
   "execution_count": null,
   "metadata": {},
   "outputs": [],
   "source": []
  },
  {
   "cell_type": "code",
   "execution_count": 14,
   "metadata": {},
   "outputs": [],
   "source": [
    "# for img, ext in map(os.path.splitext, os.listdir(\"static/gqa_images\")):\n",
    "#     if img not in imgs:\n",
    "#         os.remove(f\"static/gqa_images/{img}{ext}\")\n",
    "\n"
   ]
  },
  {
   "cell_type": "code",
   "execution_count": 50,
   "metadata": {},
   "outputs": [
    {
     "name": "stdout",
     "output_type": "stream",
     "text": [
      "content/docs/gqa-md/Solved Puzzles/Are there any flags?\n",
      "content/docs/gqa-md/Solved Puzzles/Do the pants look black?\n",
      "content/docs/gqa-md/Solved Puzzles/Is there any plate in this picture?\n",
      "content/docs/gqa-md/Solved Puzzles/Does the sidewalk look red?\n",
      "content/docs/gqa-md/Solved Puzzles/Does the hat look blue?\n",
      "content/docs/gqa-md/Solved Puzzles/Is there a zebra in the photo?\n",
      "content/docs/gqa-md/Solved Puzzles/Is there a bench in this image?\n",
      "content/docs/gqa-md/Solved Puzzles/Is there a chair that is not brown?\n",
      "content/docs/gqa-md/Solved Puzzles/Do you see any lettuce?\n",
      "content/docs/gqa-md/Solved Puzzles/Does the jacket look blue?\n",
      "content/docs/gqa-md/Solved Puzzles/Is there a chair in the photo?\n",
      "content/docs/gqa-md/Solved Puzzles/Is metal used to make the fence?\n",
      "content/docs/gqa-md/Solved Puzzles/Does the sky look gray?\n",
      "content/docs/gqa-md/Solved Puzzles/Are there pillows in the scene?\n",
      "content/docs/gqa-md/Solved Puzzles/Do you see any fences that are not made of wood?\n",
      "content/docs/gqa-md/Solved Puzzles/Is there a pizza in this photo?\n",
      "content/docs/gqa-md/Solved Puzzles/Is there a dog in the photo?\n",
      "content/docs/gqa-md/Solved Puzzles/Are there any plates in the photo?\n",
      "content/docs/gqa-md/Solved Puzzles/Are there any fire hydrants?\n",
      "content/docs/gqa-md/Solved Puzzles/Is it indoors?\n",
      "content/docs/gqa-md/Unsolved Puzzles/Is the cabinet on the right side?\n",
      "content/docs/gqa-md/Unsolved Puzzles/Is the pillow on the left side?\n",
      "content/docs/gqa-md/Unsolved Puzzles/Is the towel on the right side?\n",
      "content/docs/gqa-md/Unsolved Puzzles/Is the lamp on the left?\n",
      "content/docs/gqa-md/Unsolved Puzzles/Is the bottle in the top part of the photo?\n",
      "content/docs/gqa-md/Unsolved Puzzles/Are there windows in the picture?\n",
      "content/docs/gqa-md/Unsolved Puzzles/Is there any grass that is not short?\n",
      "content/docs/gqa-md/Unsolved Puzzles/Is there any grass in the photo that is not green?\n",
      "content/docs/gqa-md/Unsolved Puzzles/Are there bicycles in the image?\n",
      "content/docs/gqa-md/Unsolved Puzzles/Is the racket on the left?\n",
      "content/docs/gqa-md/Unsolved Puzzles/Is there a keyboard in the picture?\n",
      "content/docs/gqa-md/Unsolved Puzzles/Are there any windows in the photo?\n",
      "content/docs/gqa-md/Unsolved Puzzles/Is the umbrella in the bottom part of the picture?\n",
      "content/docs/gqa-md/Unsolved Puzzles/Is the faucet on the right?\n",
      "content/docs/gqa-md/Unsolved Puzzles/Is the cart on the right?\n",
      "content/docs/gqa-md/Unsolved Puzzles/Is there a bottle to the left of the woman?\n",
      "content/docs/gqa-md/Unsolved Puzzles/Is he standing?\n",
      "content/docs/gqa-md/Unsolved Puzzles/Is the curtain on the right?\n",
      "content/docs/gqa-md/Unsolved Puzzles/Are there apples in the image?\n",
      "content/docs/gqa-md/Unsolved Puzzles/Is the man riding?\n"
     ]
    }
   ],
   "source": [
    "# # # for puzzle_dir in glob(\"content/docs/yolo-md/*/\"):\n",
    "# # #     files = glob(puzzle_dir + \"*\")\n",
    "# # #     print(files)\n",
    "# # #     tosave = np.random.choice(files, size=3, replace=False)\n",
    "# # #     toremove = [f for f in files if f not in tosave]\n",
    "\n",
    "# # #     for f in toremove:\n",
    "# # #         shutil.rmtree(f)\n",
    "\n",
    "# for puzzle_dir in glob(\"content/docs/gqa-md/*/\"):\n",
    "#     files = glob(puzzle_dir + \"*\")\n",
    "#     files = [f for f in files if \"index\" not in f]\n",
    "#     tosave = np.random.choice(files, size=20, replace=False)\n",
    "#     toremove = [f for f in files if f not in tosave]\n",
    "#     for f in toremove:\n",
    "#         print(f)\n",
    "#         shutil.rmtree(f)\n",
    "\n",
    "\n",
    "# for puzzle_dir in glob(\"content/docs/yolo-md/*/\"):\n",
    "#     files = glob(puzzle_dir + \"variant*\")\n",
    "#     tosave = np.random.choice(files, size=2, replace=False)\n",
    "#     toremove = [f for f in files if f not in tosave]\n",
    "#     for f in toremove:\n",
    "#         print(f)\n",
    "#         shutil.rmtree(f)\n",
    "\n",
    "\n",
    "# for puzzle_dir in glob(\"content/docs/clevr-md/*/\"):\n",
    "#     files = glob(puzzle_dir + \"variant*\")\n",
    "#     # print(files)\n",
    "#     tosave = np.random.choice(files, size=2, replace=False)\n",
    "#     toremove = [f for f in files if f not in tosave]\n",
    "#     for f in toremove:\n",
    "#         print(f)\n",
    "#         shutil.rmtree(f)\n"
   ]
  },
  {
   "cell_type": "code",
   "execution_count": 7,
   "metadata": {},
   "outputs": [
    {
     "data": {
      "text/plain": [
       "7327"
      ]
     },
     "execution_count": 7,
     "metadata": {},
     "output_type": "execute_result"
    }
   ],
   "source": [
    "from utils.common import read_txt\n",
    "r = re.compile(r\"\\[\\S+\\.(?:jpg)\\]\\(([\\S]+.(?:jpg))\\)\")\n",
    "paths = set()\n",
    "for abspath, folders, files in os.walk(\"vdp_website/content/docs\"):\n",
    "    if len(files):\n",
    "        file = read_txt(os.path.join(abspath, files[0]))\n",
    "        for f in ([r.search(w).groups(0)[0] for w in file if r.search(w) ]):\n",
    "            paths.add(f[1:].replace(\".jpg\", \"\").replace(\".png\", \"\"))\n",
    "\n",
    "\n",
    "    # print(abspath, files)\n",
    "len(paths)"
   ]
  },
  {
   "cell_type": "code",
   "execution_count": null,
   "metadata": {},
   "outputs": [],
   "source": [
    "# purge any unused gqa images\n",
    "for abspath, folders, files in os.walk(\"static\"):\n",
    "    if len(files):\n",
    "        for file in files:\n",
    "            pth = os.path.join(os.path.relpath(abspath, \"static\"), file).replace(\".png\", \"\").replace(\".jpg\", \"\")\n",
    "            # print(abspath, files)\n",
    "            if pth not in paths:\n",
    "                print(pth)\n",
    "                os.remove(os.path.join(abspath, file))\n"
   ]
  },
  {
   "cell_type": "code",
   "execution_count": null,
   "metadata": {},
   "outputs": [],
   "source": []
  }
 ],
 "metadata": {
  "interpreter": {
   "hash": "caf1c2fcf97217de91eafa76b907d50f9ea378f5ffbee7f571142d119bb6a771"
  },
  "kernelspec": {
   "display_name": "Python 3.7.6 64-bit ('base': conda)",
   "language": "python",
   "name": "python3"
  },
  "language_info": {
   "codemirror_mode": {
    "name": "ipython",
    "version": 3
   },
   "file_extension": ".py",
   "mimetype": "text/x-python",
   "name": "python",
   "nbconvert_exporter": "python",
   "pygments_lexer": "ipython3",
   "version": "3.7.6"
  },
  "orig_nbformat": 4
 },
 "nbformat": 4,
 "nbformat_minor": 2
}
